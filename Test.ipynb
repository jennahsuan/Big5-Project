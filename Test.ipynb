{
  "nbformat": 4,
  "nbformat_minor": 0,
  "metadata": {
    "colab": {
      "provenance": [],
      "collapsed_sections": [
        "EF0BxF0Cg1OG",
        "beHrwCtuhLF3",
        "Hl9u5KGnIGrJ",
        "sm8wIe1b3Tyn"
      ],
      "include_colab_link": true
    },
    "kernelspec": {
      "name": "python3",
      "display_name": "Python 3"
    },
    "language_info": {
      "name": "python"
    },
    "gpuClass": "standard"
  },
  "cells": [
    {
      "cell_type": "markdown",
      "metadata": {
        "id": "view-in-github",
        "colab_type": "text"
      },
      "source": [
        "<a href=\"https://colab.research.google.com/github/jennahsuan/Big5-Project/blob/main/Test.ipynb\" target=\"_parent\"><img src=\"https://colab.research.google.com/assets/colab-badge.svg\" alt=\"Open In Colab\"/></a>"
      ]
    },
    {
      "cell_type": "markdown",
      "source": [
        "## Check Note\n",
        "\n",
        "1. test_model_name\n",
        "2. save_csv_path\n",
        "3. model"
      ],
      "metadata": {
        "id": "ghgtj3BpEaoB"
      }
    },
    {
      "cell_type": "markdown",
      "metadata": {
        "id": "EF0BxF0Cg1OG"
      },
      "source": [
        "\n",
        "### Packages "
      ]
    },
    {
      "cell_type": "code",
      "execution_count": null,
      "metadata": {
        "colab": {
          "base_uri": "https://localhost:8080/"
        },
        "id": "4IRX4tl-4sCV",
        "outputId": "c47c4f25-ba2f-41f4-b3c8-69f5834f0195"
      },
      "outputs": [
        {
          "output_type": "stream",
          "name": "stdout",
          "text": [
            "fusermount: failed to unmount /content/drive: No such file or directory\n",
            "/bin/bash: google-drive-ocamlfuse: command not found\n"
          ]
        }
      ],
      "source": [
        "# unmount google drive\n",
        "!fusermount -u drive\n",
        "!google-drive-ocamlfuse drive"
      ]
    },
    {
      "cell_type": "code",
      "execution_count": null,
      "metadata": {
        "colab": {
          "base_uri": "https://localhost:8080/"
        },
        "id": "NXDoLbgKg1OH",
        "outputId": "d0f5309b-bdc5-48d3-fc3a-dec9e7e71ce6"
      },
      "outputs": [
        {
          "output_type": "stream",
          "name": "stdout",
          "text": [
            "Mounted at /content/drive\n"
          ]
        }
      ],
      "source": [
        "from google.colab import drive\n",
        "drive.mount('/content/drive', force_remount=True)"
      ]
    },
    {
      "cell_type": "code",
      "execution_count": null,
      "metadata": {
        "id": "kFIayFeyg1OI",
        "colab": {
          "base_uri": "https://localhost:8080/"
        },
        "outputId": "8a2e61e7-6800-49b3-d6b0-1c3b4d8d3d02"
      },
      "outputs": [
        {
          "output_type": "stream",
          "name": "stdout",
          "text": [
            "Looking in indexes: https://pypi.org/simple, https://us-python.pkg.dev/colab-wheels/public/simple/\n",
            "Collecting torchinfo\n",
            "  Downloading torchinfo-1.7.1-py3-none-any.whl (22 kB)\n",
            "Installing collected packages: torchinfo\n",
            "Successfully installed torchinfo-1.7.1\n"
          ]
        }
      ],
      "source": [
        "%config IPCompleter.greedy=True\n",
        "!pip install torchinfo\n",
        "# !pip3 install pickle5"
      ]
    },
    {
      "cell_type": "code",
      "execution_count": null,
      "metadata": {
        "id": "eQTZ4MqLg1OI"
      },
      "outputs": [],
      "source": [
        "import librosa\n",
        "import librosa.display\n",
        "import numpy as np\n",
        "import pandas as pd\n",
        "\n",
        "import os\n",
        "from typing import List, Tuple, Dict\n",
        "import matplotlib.pyplot as plt\n",
        "import random\n",
        "import cv2\n",
        "import pickle as pickle"
      ]
    },
    {
      "cell_type": "code",
      "execution_count": null,
      "metadata": {
        "id": "FpYkm9ejg1OJ"
      },
      "outputs": [],
      "source": [
        "import torch\n",
        "import torch.nn as nn\n",
        "from torch.utils.data import Dataset, DataLoader, random_split\n",
        "from torchvision import datasets\n",
        "from torchvision.transforms import ToTensor, Compose\n",
        "import torchvision.transforms as tf\n",
        "from torchinfo import summary\n",
        "\n",
        "# below code is used only in colab\n",
        "from google.colab.patches import cv2_imshow\n",
        "# from tqdm.auto import tqdm"
      ]
    },
    {
      "cell_type": "markdown",
      "metadata": {
        "id": "KlQidYm2g1OJ"
      },
      "source": [
        "### Configuration *\n",
        "define own folder directory and basic settings\n",
        "\n",
        "1. Use the correct test_model_name !!\n",
        "\n",
        "2. save_csv_path: Save test prediction and ground truth value. Set to None if not needed."
      ]
    },
    {
      "cell_type": "code",
      "execution_count": null,
      "metadata": {
        "id": "GlXc0oCOg1OJ"
      },
      "outputs": [],
      "source": [
        "root = '/content/drive/MyDrive/IM_project/dlib_testing/Big5/'\n",
        "if not os.path.isdir(root):\n",
        "  raise ValueError(\"dir does not exist\")"
      ]
    },
    {
      "cell_type": "code",
      "execution_count": null,
      "metadata": {
        "id": "imQQac-qg1OJ"
      },
      "outputs": [],
      "source": [
        "'''test'''\n",
        "test_model_name = '1204_6000_2DVoting'\n",
        "# test_model_name = '1203_6000_resCNN3_scheduler'\n",
        "test_model_path = root + 'checkpoint/'+ test_model_name +'/best.pkl'\n",
        "# save_csv_path = None\n",
        "save_csv_path = root+'exp_'+ test_model_name + 'new' + '.csv'"
      ]
    },
    {
      "cell_type": "code",
      "source": [
        "from google.colab import auth\n",
        "import gspread\n",
        "from google.auth import default\n",
        "#autenticating to google\n",
        "auth.authenticate_user()\n",
        "creds, _ = default()\n",
        "gc = gspread.authorize(creds)"
      ],
      "metadata": {
        "id": "oUIjOoutKJez"
      },
      "execution_count": null,
      "outputs": []
    },
    {
      "cell_type": "code",
      "source": [
        "\n",
        "test_google = gc.open_by_key('1OUwSjPBnWo32mL_wwJ979yDTpbwFd8p_TemuRgb295s')\n",
        "test_googlept2 = test_google.worksheet('sheet2')\n",
        "\n",
        "rows = test_googlept2.get_all_values()\n",
        "df_exp = pd.DataFrame(data = rows[1:], columns = rows[0])\n",
        "df_exp = df_exp.astype({'Extraversion':'float','Agreeableness':'float','Conscientiousness':'float','Neuroticism':'float','Openess':'float'})\n",
        "df_exp.head()"
      ],
      "metadata": {
        "id": "XlOAqlgxK-_v"
      },
      "execution_count": null,
      "outputs": []
    },
    {
      "cell_type": "markdown",
      "metadata": {
        "id": "SdXLQ1VNhLF3"
      },
      "source": [
        "### Model\n",
        "classes and functions"
      ]
    },
    {
      "cell_type": "markdown",
      "metadata": {
        "id": "beHrwCtuhLF3"
      },
      "source": [
        "#### Helper\n",
        "load checkpoint function"
      ]
    },
    {
      "cell_type": "code",
      "execution_count": null,
      "metadata": {
        "id": "K7SJvW5ahLF3"
      },
      "outputs": [],
      "source": [
        "def load_checkpoint(model=None, optimizer=None, filepath=None):\n",
        "\n",
        "  if not os.path.isfile(filepath):\n",
        "    print('Warning: No checkpoint exists')\n",
        "    return 0\n",
        "  print(\"Loading checkpoint '{}'\".format(filepath))\n",
        "  if torch.cuda.is_available():\n",
        "    # Load all tensors onto previous state\n",
        "    model.cuda() # move to cuda before load state, or else error will occur at optimizer.step\n",
        "    checkpoint = torch.load(filepath)\n",
        "  else:\n",
        "    # Load all tensors onto the CPU\n",
        "    checkpoint = torch.load(filepath, map_location=lambda storage, loc: storage)\n",
        "  epoch = checkpoint['epoch']\n",
        "  if optimizer:\n",
        "    try:\n",
        "      optimizer.load_state_dict(checkpoint['optimizer'])\n",
        "    except ValueError as err:\n",
        "      print('[WARNING]', err)\n",
        "      print('[WARNING] optimizer not restored from last checkpoint, continue without previous state')\n",
        "\n",
        "  if model:\n",
        "    model.load_state_dict(checkpoint['model'])  # _extract_state_from_dataparallel\n",
        "    return epoch\n"
      ]
    },
    {
      "cell_type": "markdown",
      "metadata": {
        "id": "Hl9u5KGnIGrJ"
      },
      "source": [
        "#### Backbone\n",
        "\n",
        "https://github.com/kenshohara/3D-ResNets-PyTorch"
      ]
    },
    {
      "cell_type": "code",
      "execution_count": null,
      "metadata": {
        "id": "0qIiJIm6IGrL"
      },
      "outputs": [],
      "source": [
        "import math\n",
        "from functools import partial\n",
        "import torch.nn.functional as F\n",
        "\n",
        "def get_inplanes():\n",
        "    return [64, 128, 256, 512]\n",
        "\n",
        "\n",
        "def conv3x3x3(in_planes, out_planes, stride=1):\n",
        "    return nn.Conv3d(in_planes, out_planes, kernel_size=3, stride=stride, padding=1, bias=False)\n",
        "\n",
        "def conv1x1x1(in_planes, out_planes, stride=1):\n",
        "    return nn.Conv3d(in_planes, out_planes, kernel_size=1, stride=stride, bias=False)\n",
        "\n",
        "class BasicBlock(nn.Module):\n",
        "    expansion = 1\n",
        "\n",
        "    def __init__(self, in_planes, planes, stride=1, downsample=None, dropout_rate = 0):\n",
        "        super().__init__()\n",
        "\n",
        "        self.conv1 = conv3x3x3(in_planes, planes, stride)\n",
        "        self.bn1 = nn.BatchNorm3d(planes)\n",
        "        self.relu = nn.ReLU(inplace=True)\n",
        "        self.dropout1 = nn.Dropout(dropout_rate)\n",
        "        self.conv2 = conv3x3x3(planes, planes)\n",
        "        self.bn2 = nn.BatchNorm3d(planes)\n",
        "        self.dropout2 = nn.Dropout(dropout_rate)\n",
        "        self.downsample = downsample\n",
        "        self.stride = stride\n",
        "\n",
        "    def forward(self, x):\n",
        "        residual = x\n",
        "\n",
        "        out = self.conv1(x)\n",
        "        out = self.bn1(out)\n",
        "        out = self.relu(out)\n",
        "        out = self.dropout1(out)\n",
        "        out = self.conv2(out)\n",
        "        out = self.bn2(out)\n",
        "        out = self.dropout2(out)\n",
        "\n",
        "        if self.downsample is not None:\n",
        "            residual = self.downsample(x)\n",
        "\n",
        "        out += residual\n",
        "        out = self.relu(out)\n",
        "\n",
        "        return out\n",
        "\n",
        "class Bottleneck(nn.Module):  # block for deeper layers\n",
        "    expansion = 4\n",
        "\n",
        "    def __init__(self, in_planes, planes, stride=1, downsample=None):\n",
        "        super().__init__()\n",
        "\n",
        "        self.conv1 = conv1x1x1(in_planes, planes)\n",
        "        self.bn1 = nn.BatchNorm3d(planes)\n",
        "        self.conv2 = conv3x3x3(planes, planes, stride)\n",
        "        self.bn2 = nn.BatchNorm3d(planes)\n",
        "        self.conv3 = conv1x1x1(planes, planes * self.expansion)\n",
        "        self.bn3 = nn.BatchNorm3d(planes * self.expansion)\n",
        "        self.relu = nn.ReLU(inplace=True)\n",
        "        self.downsample = downsample\n",
        "        self.stride = stride\n",
        "\n",
        "    def forward(self, x):\n",
        "        residual = x\n",
        "\n",
        "        out = self.conv1(x)\n",
        "        out = self.bn1(out)\n",
        "        out = self.relu(out)\n",
        "\n",
        "        out = self.conv2(out)\n",
        "        out = self.bn2(out)\n",
        "        out = self.relu(out)\n",
        "\n",
        "        out = self.conv3(out)\n",
        "        out = self.bn3(out)\n",
        "\n",
        "        if self.downsample is not None:\n",
        "            residual = self.downsample(x)\n",
        "\n",
        "        out += residual\n",
        "        out = self.relu(out)\n",
        "\n",
        "        return out\n",
        "\n",
        "class ResNet(nn.Module):\n",
        "\n",
        "    def __init__(self, block, layers, block_inplanes, n_input_channels=1, conv1_t_size=7, conv1_t_stride=1, no_max_pool=False,\n",
        "            shortcut_type='B', widen_factor=1.0, n_class=10, dropout_rate = 0):\n",
        "        super().__init__()\n",
        "\n",
        "        block_inplanes = [int(x * widen_factor) for x in block_inplanes]\n",
        "\n",
        "        self.in_planes = block_inplanes[0]\n",
        "        self.no_max_pool = no_max_pool\n",
        "\n",
        "        self.conv1 = nn.Conv3d(n_input_channels,\n",
        "                    self.in_planes,\n",
        "                    kernel_size=(conv1_t_size, 7, 7),\n",
        "                    stride=(conv1_t_stride, 2, 2),\n",
        "                    padding=(conv1_t_size // 2, 3, 3),\n",
        "                    bias=False)\n",
        "        self.bn1 = nn.BatchNorm3d(self.in_planes)\n",
        "        self.relu = nn.ReLU(inplace=True)\n",
        "        self.maxpool = nn.MaxPool3d(kernel_size=3, stride=2, padding=1)\n",
        "        self.layer1 = self._make_layer(block, block_inplanes[0], layers[0], shortcut_type)\n",
        "        self.layer2 = self._make_layer(block,\n",
        "                        block_inplanes[1],\n",
        "                        layers[1],\n",
        "                        shortcut_type,\n",
        "                        stride=2)\n",
        "        self.layer3 = self._make_layer(block,\n",
        "                        block_inplanes[2],\n",
        "                        layers[2],\n",
        "                        shortcut_type,\n",
        "                        stride=2)\n",
        "        self.layer4 = self._make_layer(block,\n",
        "                        block_inplanes[3],\n",
        "                        layers[3],\n",
        "                        shortcut_type,\n",
        "                        stride=2, dropout_rate = dropout_rate)\n",
        "        # self.dropout = nn.Dropout(p=dropout_rate)\n",
        "        self.sigmoid = nn.Sigmoid()\n",
        "        self.avgpool = nn.AdaptiveAvgPool3d((1, 1, 1))\n",
        "        self.fc = nn.Linear(block_inplanes[3] * block.expansion,  n_class)\n",
        "\n",
        "        for m in self.modules():\n",
        "            if isinstance(m, nn.Conv3d):\n",
        "                nn.init.kaiming_normal_(m.weight,\n",
        "                            mode='fan_out',\n",
        "                            nonlinearity='relu')\n",
        "            elif isinstance(m, nn.BatchNorm3d):\n",
        "                nn.init.constant_(m.weight, 1)\n",
        "                nn.init.constant_(m.bias, 0)\n",
        "\n",
        "    def _downsample_basic_block(self, x, planes, stride):\n",
        "        out = F.avg_pool3d(x, kernel_size=1, stride=stride)\n",
        "        zero_pads = torch.zeros(out.size(0), planes - out.size(1), out.size(2),\n",
        "                                out.size(3), out.size(4))\n",
        "        if isinstance(out.data, torch.cuda.FloatTensor):\n",
        "            zero_pads = zero_pads.cuda()\n",
        "\n",
        "        out = torch.cat([out.data, zero_pads], dim=1)\n",
        "\n",
        "        return out\n",
        "\n",
        "    def _make_layer(self, block, planes, blocks, shortcut_type, stride=1, dropout_rate = 0):\n",
        "        downsample = None\n",
        "        if stride != 1 or self.in_planes != planes * block.expansion:\n",
        "            if shortcut_type == 'A':\n",
        "                downsample = partial(self._downsample_basic_block,\n",
        "                            planes=planes * block.expansion,\n",
        "                            stride=stride)\n",
        "            else:\n",
        "                downsample = nn.Sequential(\n",
        "                    conv1x1x1(self.in_planes, planes * block.expansion, stride),\n",
        "                    nn.BatchNorm3d(planes * block.expansion))\n",
        "\n",
        "        layers = []\n",
        "        layers.append(\n",
        "            block(in_planes=self.in_planes,\n",
        "                planes=planes,\n",
        "                stride=stride,\n",
        "                downsample=downsample))\n",
        "        self.in_planes = planes * block.expansion\n",
        "        for i in range(1, blocks):\n",
        "            layers.append(block(self.in_planes, planes, dropout_rate = dropout_rate))\n",
        "\n",
        "        return nn.Sequential(*layers)\n",
        "\n",
        "    def forward(self, x):\n",
        "        x = self.conv1(x)\n",
        "        x = self.bn1(x)\n",
        "        x = self.relu(x)\n",
        "        if not self.no_max_pool:\n",
        "            x = self.maxpool(x)\n",
        "\n",
        "        x = self.layer1(x)\n",
        "        x = self.layer2(x)\n",
        "        x = self.layer3(x)\n",
        "        x = self.layer4(x)\n",
        "        x = self.avgpool(x)\n",
        "        # x = self.dropout(x)\n",
        "        x = x.view(x.size(0), -1)\n",
        "        x = self.fc(x)\n",
        "        x = self.sigmoid(x)\n",
        "        return x\n",
        "\n",
        "\n",
        "def generate_resnet_model(model_depth, **kwargs):\n",
        "    assert model_depth in [10, 18, 34, 50, 101, 152, 200]\n",
        "\n",
        "    if model_depth == 10:\n",
        "        model = ResNet(BasicBlock, [1, 1, 1, 1], get_inplanes(), **kwargs)\n",
        "    elif model_depth == 18:\n",
        "        model = ResNet(BasicBlock, [2, 2, 2, 2], get_inplanes(), **kwargs)\n",
        "    elif model_depth == 34:\n",
        "        model = ResNet(BasicBlock, [3, 4, 6, 3], get_inplanes(), **kwargs)\n",
        "    elif model_depth == 50:\n",
        "        model = ResNet(Bottleneck, [3, 4, 6, 3], get_inplanes(), **kwargs)\n",
        "    elif model_depth == 101:\n",
        "        model = ResNet(Bottleneck, [3, 4, 23, 3], get_inplanes(), **kwargs)\n",
        "    elif model_depth == 152:\n",
        "        model = ResNet(Bottleneck, [3, 8, 36, 3], get_inplanes(), **kwargs)\n",
        "    elif model_depth == 200:\n",
        "        model = ResNet(Bottleneck, [3, 24, 36, 3], get_inplanes(), **kwargs)\n",
        "\n",
        "    return model"
      ]
    },
    {
      "cell_type": "code",
      "execution_count": null,
      "metadata": {
        "id": "EDevGHHXIGrN"
      },
      "outputs": [],
      "source": [
        "def get_module_name(name):\n",
        "    name = name.split('.')\n",
        "    if name[0] == 'module':\n",
        "        i = 1\n",
        "    else:\n",
        "        i = 0\n",
        "    if name[i] == 'features':\n",
        "        i += 1\n",
        "    return name[i]\n",
        "\n",
        "def get_fine_tuning_parameters(model, ft_begin_module):\n",
        "    if not ft_begin_module:\n",
        "        return model.parameters()\n",
        "\n",
        "    parameters = []\n",
        "    add_flag = False\n",
        "    for k, v in model.named_parameters():\n",
        "        if ft_begin_module == get_module_name(k):\n",
        "            add_flag = True\n",
        "        if add_flag:\n",
        "            parameters.append({'params': v})\n",
        "    return parameters\n",
        "\n",
        "\n",
        "\n",
        "def load_pretrained_model(model, pretrain_path, model_name, n_finetune_classes, freeze = False):\n",
        "    if pretrain_path:\n",
        "        print('loading pretrained model {}'.format(pretrain_path))\n",
        "        pretrain = torch.load(pretrain_path, map_location='cpu')\n",
        "\n",
        "        model.load_state_dict(pretrain['state_dict'])\n",
        "        # freeze weight\n",
        "        if freeze:\n",
        "          for param in model.parameters():\n",
        "            param.requires_grad = False\n",
        "          for param in model.layer4[1].parameters():\n",
        "            param.requires_grad = True\n",
        "          # but not freeze batch norm\n",
        "          for i in [0,1]:\n",
        "            model.layer1[i].bn1 = nn.BatchNorm3d(64)\n",
        "            model.layer1[i].bn2 = nn.BatchNorm3d(64)\n",
        "            model.layer2[i].bn1 = nn.BatchNorm3d(128)\n",
        "            model.layer2[i].bn2 = nn.BatchNorm3d(128)\n",
        "            model.layer3[i].bn1 = nn.BatchNorm3d(256)\n",
        "            model.layer3[i].bn2 = nn.BatchNorm3d(256)\n",
        "            model.layer4[i].bn1 = nn.BatchNorm3d(512)\n",
        "            model.layer4[i].bn2 = nn.BatchNorm3d(512)\n",
        "          model.layer2[0].downsample[1] = nn.BatchNorm3d(128)\n",
        "          model.layer3[0].downsample[1] = nn.BatchNorm3d(256)\n",
        "          model.layer4[0].downsample[1] = nn.BatchNorm3d(512)\n",
        "          model.layer4[1].conv1 = nn.Conv3d(512, 512, kernel_size=(3, 3, 3),stride=(1, 1, 1), padding=(1, 1, 1), bias=False)\n",
        "          model.layer4[1].conv2 = nn.Conv3d(512, 512, kernel_size=(3, 3, 3),stride=(1, 1, 1), padding=(1, 1, 1), bias=False)\n",
        "          model.bn1 = nn.BatchNorm3d(64)\n",
        "        tmp_model = model\n",
        "        if model_name == 'densenet':\n",
        "            tmp_model.classifier = nn.Linear(tmp_model.classifier.in_features, n_finetune_classes)\n",
        "        else:\n",
        "            tmp_model.fc = nn.Linear(tmp_model.fc.in_features, n_finetune_classes)\n",
        "\n",
        "    return model\n"
      ]
    },
    {
      "cell_type": "markdown",
      "metadata": {
        "id": "GNsAN7G5IjHk"
      },
      "source": [
        "#### CNN Block, resnet+CNN\n",
        "Reference:\n",
        "\n",
        "CNN, resCNN:\n",
        "[Bi-modal First Impressions Recognition using Temporally Ordered Deep Audio and Stochastic Visual Features ](https://github.com/InnovArul/first-impressions)\n",
        "\n",
        "CNN5: [won fisrt place in Chalearn](https://tzzcl.github.io/papers/eccvw16_APA.pdf)([kernel size used ](http://www.bmva.org/bmvc/2015/papers/paper041/paper041.pdf)). 100 frame, 224, did not crop face, bimodal. [Prove on what is learned in CNN layers.](https://openaccess.thecvf.com/content_cvpr_2017_workshops/w26/papers/Ventura_Interpreting_CNN_Models_CVPR_2017_paper.pdf)"
      ]
    },
    {
      "cell_type": "code",
      "execution_count": null,
      "metadata": {
        "id": "rJT7HmBuaVhV"
      },
      "outputs": [],
      "source": [
        "# resCNN3\n",
        "class Res_CNN(nn.Module):\n",
        "\n",
        "    def __init__(self, in_planes, num_classes, downsample=None, droprate = 0, freeze = True):\n",
        "        super(Res_CNN, self).__init__()\n",
        "\n",
        "        resnet = generate_resnet_model(model_depth=18,\n",
        "                  n_class=700,\n",
        "                  n_input_channels=in_planes,\n",
        "                  shortcut_type='B',\n",
        "                  conv1_t_size=7,\n",
        "                  conv1_t_stride=1,\n",
        "                  no_max_pool=True,\n",
        "                  widen_factor=1, dropout_rate = 0)\n",
        "        pretrain_path = root+ 'pretrained_model/r3d18_K_200ep.pth'\n",
        "        self.resnet = load_pretrained_model(resnet, pretrain_path, model_name = None, n_finetune_classes = num_classes)\n",
        "        \n",
        "        # freeze weight\n",
        "        if freeze:\n",
        "          for param in self.resnet.parameters():\n",
        "            param.requires_grad = False\n",
        "          # for param in self.resnet.layer4.parameters():\n",
        "          #   param.requires_grad = True\n",
        "          # but not freeze batch norm weight\n",
        "          for i in [0,1]:\n",
        "            self.resnet.layer1[i].bn1 = nn.BatchNorm3d(64)\n",
        "            self.resnet.layer1[i].bn2 = nn.BatchNorm3d(64)\n",
        "            self.resnet.layer2[i].bn1 = nn.BatchNorm3d(128)\n",
        "            self.resnet.layer2[i].bn2 = nn.BatchNorm3d(128)\n",
        "            self.resnet.layer3[i].bn1 = nn.BatchNorm3d(256)\n",
        "            self.resnet.layer3[i].bn2 = nn.BatchNorm3d(256)\n",
        "            self.resnet.layer4[i].bn1 = nn.BatchNorm3d(512)\n",
        "            self.resnet.layer4[i].bn2 = nn.BatchNorm3d(512)\n",
        "          self.resnet.layer2[0].downsample[1] = nn.BatchNorm3d(128)\n",
        "          self.resnet.layer3[0].downsample[1] = nn.BatchNorm3d(256)\n",
        "          # self.resnet.layer4[0].downsample[1] = nn.BatchNorm3d(512)\n",
        "          self.resnet.bn1 = nn.BatchNorm3d(64)\n",
        "          # self.resnet.layer4[1].conv1 = nn.Conv3d(512, 512, kernel_size=(3, 3, 3),stride=(1, 1, 1), padding=(1, 1, 1), bias=False)\n",
        "          # self.resnet.layer4[1].conv2 = nn.Conv3d(512, 512, kernel_size=(3, 3, 3),stride=(1, 1, 1), padding=(1, 1, 1), bias=False)\n",
        "          self.resnet.layer4 = None\n",
        "          \n",
        "\n",
        "\n",
        "\n",
        "        '''256'''\n",
        "        self.conv1 = nn.Conv3d(256, 64, kernel_size=(1,5,5), stride = (1,1,1), padding=(0,1,1))\n",
        "        # self.conv1 = nn.ConvTranspose3d(512, 128, kernel_size=(2,2,2), stride = (1,1,1), padding=0)\n",
        "        self.relu1 = nn.ReLU()\n",
        "        self.avgpool1 = nn.AvgPool3d(kernel_size=(1,3,3), stride=1, padding=0)\n",
        "        self.conv2 = nn.Conv3d(64,16, kernel_size=(1,5,5), stride = 1, padding=(0,1,1))  \n",
        "        self.relu2 = nn.ReLU()\n",
        "        # self.conv3 = nn.Conv3d(16,8, kernel_size=(1,3,3), stride = (1,1,1), padding=0)  \n",
        "        # self.avgpool3 = nn.AvgPool3d(kernel_size=(2,3,3), stride=1, padding=0)\n",
        "        self.dropout = nn.Dropout(droprate)\n",
        "        # self.conv4 = nn.Conv3d(8,8, kernel_size=(1,5,5), stride = (1,1,1), padding=0)  \n",
        "        self.fc1 = nn.Linear( 16* 4* 10* 10 , 4000)\n",
        "        self.fc2 = nn.Linear(4000 ,400)\n",
        "        self.fc3 = nn.Linear(400 , num_classes)\n",
        "        self.sigmoid = nn.Sigmoid()\n",
        "        # self.res_avgpool = nn.AvgPool3d(kernel_size=3, stride=2, padding=1)\n",
        "\n",
        "    def forward(self, x):\n",
        "        x = self.resnet.conv1(x)\n",
        "        x = self.resnet.bn1(x)\n",
        "        x = self.resnet.relu(x)\n",
        "        # x = self.res_avgpool(x)  # for 128\n",
        "        x = self.resnet.maxpool(x)  # for 128\n",
        "        x = self.resnet.layer1(x)\n",
        "        x = self.resnet.layer2(x)\n",
        "        x = self.resnet.layer3(x)\n",
        "        # x = self.resnet.layer4(x) # for 128\n",
        "        # print('x' ,x.shape)\n",
        "        out = self.conv1(x)\n",
        "        # print('conv1' ,out.shape)\n",
        "        out = self.relu1(out)\n",
        "        out = self.avgpool1(out) # for 256\n",
        "        # print('maxpool' ,out.shape)\n",
        "        out = self.dropout(out)\n",
        "        out = self.conv2(out)\n",
        "        # print('conv2' ,out.shape)\n",
        "        out = self.relu2(out)\n",
        "        \n",
        "        # print('maxpool2' ,out.shape)\n",
        "        # # out = self.conv3(out)\n",
        "        # # out = self.maxpool3(out)\n",
        "        # out = self.avgpool3(out)\n",
        "        # # print('conv3' ,out.shape)\n",
        "        out = self.dropout(out)\n",
        "        # # out = self.conv4(out)\n",
        "        out = out.view(out.size(0), -1)\n",
        "        out = self.fc1(out)\n",
        "        # print('fc1 ' ,out.shape)\n",
        "        out = self.fc2(out)\n",
        "        out = self.fc3(out)\n",
        "        # out = self.fc4(out)  # for 128\n",
        "        # print('fc2 ' ,out.shape)\n",
        "        out = self.sigmoid(out)\n",
        "        return out"
      ]
    },
    {
      "cell_type": "markdown",
      "metadata": {
        "id": "sm8wIe1b3Tyn"
      },
      "source": [
        "#### 2DCNN + LSTM "
      ]
    },
    {
      "cell_type": "code",
      "source": [
        "class CNN_AVG(nn.Module):\n",
        "\n",
        "    def __init__(self, in_planes, num_classes, downsample=None, droprate = 0):\n",
        "        super(CNN_AVG, self).__init__()\n",
        "\n",
        "\n",
        "        self.sigmoid = nn.Sigmoid()\n",
        "\n",
        "        self.conv1 = nn.Conv3d(1, 32, kernel_size=(1, 5, 5), stride=(1, 1, 1), padding=(0,1,1))\n",
        "        # self.bn1  = nn.BatchNorm3d(64, eps=1e-05, momentum=0.1, affine=True, track_running_stats=True)\n",
        "        self.relu1 = nn.ReLU(inplace=True)\n",
        "        self.avgpool1 = nn.AvgPool3d(kernel_size=(1,3,3), stride=(1,2,2), padding=0)\n",
        "        \n",
        "        self.conv2 = nn.Conv3d(32, 32, kernel_size=(1, 7, 7), stride=(1, 1, 1), padding=(0,1,1))\n",
        "        # self.bn2  = nn.BatchNorm3d(64, eps=1e-05, momentum=0.1, affine=True, track_running_stats=True)\n",
        "        self.relu2 = nn.ReLU(inplace=True)\n",
        "        # self.dropout1 = nn.Dropout(p=0, inplace=False)\n",
        "        self.avgpool2 = nn.AvgPool3d(kernel_size=(1,3,3), stride=(1,2,2), padding=0)\n",
        "        self.dropout1 = nn.Dropout(p=droprate, inplace=False)\n",
        "        self.conv3 = nn.Conv3d(32, 16, kernel_size=(1, 7, 7), stride=(1, 1, 1), padding=0)\n",
        "        # self.bn3  = nn.BatchNorm3d(64, eps=1e-05, momentum=0.1, affine=True, track_running_stats=True)\n",
        "        self.relu3 = nn.ReLU(inplace=True)\n",
        "        self.avgpool3 = nn.AvgPool3d(kernel_size=(1,2,2), stride=(1,2,2), padding=0)\n",
        "\n",
        "        self.lstm = nn.LSTM(input_size=11664, hidden_size = 64, num_layers = 8, batch_first=True, dropout = 0.1) #11664\n",
        "        self.fc1 = nn.Linear(1920 , 512)  #21632\n",
        "        # self.dropout2 = nn.Dropout(p=droprate, inplace=False)\n",
        "        self.fc2 = nn.Linear(512 , 100)\n",
        "        self.fc3 = nn.Linear(100 , num_classes)\n",
        "\n",
        "    def forward(self, x):\n",
        "        # print('x' ,x.shape)\n",
        "        out = self.conv1(x)\n",
        "        # print('conv1' ,out.shape)\n",
        "        out = self.relu1(out)\n",
        "        out = self.avgpool1(out)\n",
        "        # print('maxpool1' ,out.shape)\n",
        "        out = self.conv2(out)\n",
        "        # print('conv2' ,out.shape)\n",
        "        out = self.relu2(out)\n",
        "        out = self.avgpool2(out)\n",
        "        out = self.dropout1(out)\n",
        "        # print('maxpool2' ,out.shape)\n",
        "        out = self.conv3(out)\n",
        "        out = self.relu3(out)\n",
        "        out = self.avgpool3(out)\n",
        "\n",
        "        out = out.view(out.size(0),out.size(2), -1)\n",
        "        out, (_,_) = self.lstm(out)\n",
        "\n",
        "        \n",
        "        out = out.contiguous().view(out.size(0), -1)\n",
        "        # out = torch.reshape(out, (0,-1,))\n",
        "        # print('lstm' ,out.shape)\n",
        "        out = self.fc1(out)\n",
        "        # # print('fc1 ' ,out.shape)\n",
        "        # # out = self.dropout2(out)\n",
        "        out = self.fc2(out)\n",
        "        out = self.fc3(out)\n",
        "        # # print('fc2 ' ,out.shape)\n",
        "        # out = self.sigmoid(out)\n",
        "        return out"
      ],
      "metadata": {
        "id": "0XKTiUbk3C0Q"
      },
      "execution_count": null,
      "outputs": []
    },
    {
      "cell_type": "markdown",
      "metadata": {
        "id": "3tIzoaI8hLF6"
      },
      "source": [
        "### Build model"
      ]
    },
    {
      "cell_type": "code",
      "source": [
        "model = Res_CNN(in_planes = 3, num_classes = 5, droprate = 0.4)\n",
        "# # print(model)\n",
        "summary(model, input_size=(8, 3, 30, 256, 256))"
      ],
      "metadata": {
        "colab": {
          "base_uri": "https://localhost:8080/"
        },
        "id": "brzuVtfHLaxQ",
        "outputId": "834f4363-55d0-4224-8f9d-240eac110995"
      },
      "execution_count": null,
      "outputs": [
        {
          "output_type": "stream",
          "name": "stdout",
          "text": [
            "loading pretrained model /content/drive/MyDrive/IM_project/dlib_testing/Big5/pretrained_model/r3d18_K_200ep.pth\n"
          ]
        },
        {
          "output_type": "execute_result",
          "data": {
            "text/plain": [
              "===============================================================================================\n",
              "Layer (type:depth-idx)                        Output Shape              Param #\n",
              "===============================================================================================\n",
              "Res_CNN                                       [8, 5]                    --\n",
              "├─ResNet: 1-1                                 --                        2,565\n",
              "│    └─Conv3d: 2-1                            [8, 64, 30, 128, 128]     (65,856)\n",
              "│    └─BatchNorm3d: 2-2                       [8, 64, 30, 128, 128]     128\n",
              "│    └─ReLU: 2-3                              [8, 64, 30, 128, 128]     --\n",
              "│    └─MaxPool3d: 2-4                         [8, 64, 15, 64, 64]       --\n",
              "│    └─Sequential: 2-5                        [8, 64, 15, 64, 64]       --\n",
              "│    │    └─BasicBlock: 3-1                   [8, 64, 15, 64, 64]       221,440\n",
              "│    │    └─BasicBlock: 3-2                   [8, 64, 15, 64, 64]       221,440\n",
              "│    └─Sequential: 2-6                        [8, 128, 8, 32, 32]       --\n",
              "│    │    └─BasicBlock: 3-3                   [8, 128, 8, 32, 32]       672,512\n",
              "│    │    └─BasicBlock: 3-4                   [8, 128, 8, 32, 32]       885,248\n",
              "│    └─Sequential: 2-7                        [8, 256, 4, 16, 16]       --\n",
              "│    │    └─BasicBlock: 3-5                   [8, 256, 4, 16, 16]       2,688,512\n",
              "│    │    └─BasicBlock: 3-6                   [8, 256, 4, 16, 16]       3,539,968\n",
              "├─Conv3d: 1-2                                 [8, 64, 4, 14, 14]        409,664\n",
              "├─ReLU: 1-3                                   [8, 64, 4, 14, 14]        --\n",
              "├─AvgPool3d: 1-4                              [8, 64, 4, 12, 12]        --\n",
              "├─Dropout: 1-5                                [8, 64, 4, 12, 12]        --\n",
              "├─Conv3d: 1-6                                 [8, 16, 4, 10, 10]        25,616\n",
              "├─ReLU: 1-7                                   [8, 16, 4, 10, 10]        --\n",
              "├─Dropout: 1-8                                [8, 16, 4, 10, 10]        --\n",
              "├─Linear: 1-9                                 [8, 4000]                 25,604,000\n",
              "├─Linear: 1-10                                [8, 400]                  1,600,400\n",
              "├─Linear: 1-11                                [8, 5]                    2,005\n",
              "├─Sigmoid: 1-12                               [8, 5]                    --\n",
              "===============================================================================================\n",
              "Total params: 35,939,354\n",
              "Trainable params: 27,646,165\n",
              "Non-trainable params: 8,293,189\n",
              "Total mult-adds (G): 632.27\n",
              "===============================================================================================\n",
              "Input size (MB): 188.74\n",
              "Forward/backward pass size (MB): 6882.56\n",
              "Params size (MB): 143.75\n",
              "Estimated Total Size (MB): 7215.05\n",
              "==============================================================================================="
            ]
          },
          "metadata": {},
          "execution_count": 13
        }
      ]
    },
    {
      "cell_type": "code",
      "execution_count": null,
      "metadata": {
        "colab": {
          "base_uri": "https://localhost:8080/"
        },
        "outputId": "81c5740f-b598-4196-fa6c-5bedfd5326f9",
        "id": "O2sDYkLsdUP8"
      },
      "outputs": [
        {
          "output_type": "execute_result",
          "data": {
            "text/plain": [
              "==========================================================================================\n",
              "Layer (type:depth-idx)                   Output Shape              Param #\n",
              "==========================================================================================\n",
              "CNN_AVG                                  [8, 5]                    --\n",
              "├─Conv3d: 1-1                            [8, 32, 30, 254, 254]     832\n",
              "├─ReLU: 1-2                              [8, 32, 30, 254, 254]     --\n",
              "├─AvgPool3d: 1-3                         [8, 32, 30, 126, 126]     --\n",
              "├─Conv3d: 1-4                            [8, 32, 30, 122, 122]     50,208\n",
              "├─ReLU: 1-5                              [8, 32, 30, 122, 122]     --\n",
              "├─AvgPool3d: 1-6                         [8, 32, 30, 60, 60]       --\n",
              "├─Dropout: 1-7                           [8, 32, 30, 60, 60]       --\n",
              "├─Conv3d: 1-8                            [8, 16, 30, 54, 54]       25,104\n",
              "├─ReLU: 1-9                              [8, 16, 30, 54, 54]       --\n",
              "├─AvgPool3d: 1-10                        [8, 16, 30, 27, 27]       --\n",
              "├─LSTM: 1-11                             [8, 30, 64]               3,235,840\n",
              "├─Linear: 1-12                           [8, 512]                  983,552\n",
              "├─Linear: 1-13                           [8, 100]                  51,300\n",
              "├─Linear: 1-14                           [8, 5]                    505\n",
              "==========================================================================================\n",
              "Total params: 4,347,341\n",
              "Trainable params: 4,347,341\n",
              "Non-trainable params: 0\n",
              "Total mult-adds (G): 210.59\n",
              "==========================================================================================\n",
              "Input size (MB): 62.91\n",
              "Forward/backward pass size (MB): 4968.08\n",
              "Params size (MB): 17.39\n",
              "Estimated Total Size (MB): 5048.38\n",
              "=========================================================================================="
            ]
          },
          "metadata": {},
          "execution_count": 74
        }
      ],
      "source": [
        "# # resCNN3\n",
        "# model = Res_CNN(in_planes = 3, num_classes = 5, droprate = 0.4)\n",
        "# # # print(model)\n",
        "# summary(model, input_size=(8, 3, 30, 256, 256)) \n",
        "\n",
        "model = CNN_AVG(1, 5, droprate = 0.4)\n",
        "# print(model)\n",
        "summary(model, input_size=(8, 1, 30, 256, 256))"
      ]
    },
    {
      "cell_type": "markdown",
      "source": [
        "### Test\n"
      ],
      "metadata": {
        "id": "BvHJKKdK_ZtN"
      }
    },
    {
      "cell_type": "code",
      "execution_count": null,
      "metadata": {
        "id": "iQEOa9giZnsF",
        "colab": {
          "base_uri": "https://localhost:8080/"
        },
        "outputId": "ff88dece-6e63-4d4a-f3bb-cf79efd6da31"
      },
      "outputs": [
        {
          "output_type": "stream",
          "name": "stdout",
          "text": [
            "Loading checkpoint '/content/drive/MyDrive/IM_project/dlib_testing/Big5/checkpoint/1204_6000_2DVoting/best.pkl'\n"
          ]
        }
      ],
      "source": [
        "# load the parameters onto the model\n",
        "_ = load_checkpoint(model, filepath=test_model_path)\n",
        "model.eval()\n",
        "\n",
        "device = torch.device(\"cuda\" if torch.cuda.is_available() else \"cpu\")\n",
        "model=model.to(device)"
      ]
    },
    {
      "cell_type": "code",
      "source": [
        "# Test data\n",
        "cols = ['id','video', 'gt_extraversion', 'gt_neuroticism',  'gt_agreeableness', 'gt_conscientiousness', 'gt_openness',\n",
        "          'pred_extraversion','pred_neuroticism', 'pred_agreeableness', 'pred_conscientiousness', 'pred_openness']\n",
        "rows = []\n",
        "\n",
        "exp_path = root+'latest_data/30_256px/exp'\n",
        "for filename in os.listdir(exp_path):\n",
        "  print(filename)\n",
        "  with open(exp_path+'/'+filename, \"rb\") as dat:\n",
        "    images = pickle.load(dat)\n",
        "\n",
        "# # result = np.concatenate(images,axis=1)\n",
        "# # show_64_image = cv2.resize(result*255.0, dsize=(3840, 128), interpolation=cv2.INTER_LINEAR)\n",
        "# # cv2_imshow(show_64_image)\n",
        "\n",
        "  images = torch.from_numpy(images).float()\n",
        "  images = torch.unsqueeze(images, 0)          #  add channel (D,H,W) -> (C,D,H,W) \n",
        "  # images = torch.cat((images, images, images), 0)   # resnet needs input channel = 3\n",
        "  images = torch.unsqueeze(images, 0)          # add batch size = 1, (C,D,H,W) -> (B,C,D,H,W) \n",
        "  print('input shape', images.shape)\n",
        "  inputs_hf = tf.functional.hflip(images)\n",
        "\n",
        "# # testing...\n",
        "  output = model(images)\n",
        "  outputs_hf = model(inputs_hf)  # horizon flip augmentation\n",
        "  output = torch.cat((output, outputs_hf), 0)\n",
        "  output = torch.mean(output, 0, keepdim = True)\n",
        "  # print('output (e,n,a,c,o)',output.tolist())\n",
        "  video = filename[-5]\n",
        "  id = filename[:-8]\n",
        "  gt = df_exp[df_exp['id'] == id]\n",
        "  gt = gt[['Extraversion', 'Neuroticism', 'Agreeableness', 'Conscientiousness', 'Openess']].values.tolist()\n",
        "\n",
        "  pred = output.tolist()\n",
        "  row = [id] + [video] + gt[0] + pred[0]\n",
        "  rows.append(row)"
      ],
      "metadata": {
        "id": "SHa1wAa_-EEq"
      },
      "execution_count": null,
      "outputs": []
    },
    {
      "cell_type": "code",
      "source": [
        "complete_df = pd.DataFrame(rows, columns =cols)\n",
        "if save_csv_path:\n",
        "  complete_df.to_csv(save_csv_path, index=False)\n",
        "complete_df.head()"
      ],
      "metadata": {
        "colab": {
          "base_uri": "https://localhost:8080/",
          "height": 270
        },
        "id": "jvxiM6OpcTsf",
        "outputId": "3cbccb55-f8d2-4d45-afac-1645541e55fc"
      },
      "execution_count": null,
      "outputs": [
        {
          "output_type": "execute_result",
          "data": {
            "text/plain": [
              "   id video  gt_extraversion  gt_neuroticism  gt_agreeableness  \\\n",
              "0  12     1             0.98            0.58              0.56   \n",
              "1  14     1             0.84            0.62              0.38   \n",
              "2   4     1             0.56            0.66              0.36   \n",
              "3  15     1             0.60            0.58              0.40   \n",
              "4  19     1             0.72            0.68              0.42   \n",
              "\n",
              "   gt_conscientiousness  gt_openness  pred_extraversion  pred_neuroticism  \\\n",
              "0                  0.60         0.74           0.433974          0.478068   \n",
              "1                  0.74         0.66           0.399414          0.443344   \n",
              "2                  0.68         0.82           0.385275          0.429255   \n",
              "3                  0.68         0.74           0.449909          0.493641   \n",
              "4                  0.82         0.68           0.532031          0.574041   \n",
              "\n",
              "   pred_agreeableness  pred_conscientiousness  pred_openness  \n",
              "0            0.518351                0.480338       0.514328  \n",
              "1            0.495944                0.443173       0.483547  \n",
              "2            0.486516                0.428208       0.470897  \n",
              "3            0.529046                0.497055       0.528540  \n",
              "4            0.582982                0.583438       0.601185  "
            ],
            "text/html": [
              "\n",
              "  <div id=\"df-d291b783-d015-4e5b-9f22-398eb33ec157\">\n",
              "    <div class=\"colab-df-container\">\n",
              "      <div>\n",
              "<style scoped>\n",
              "    .dataframe tbody tr th:only-of-type {\n",
              "        vertical-align: middle;\n",
              "    }\n",
              "\n",
              "    .dataframe tbody tr th {\n",
              "        vertical-align: top;\n",
              "    }\n",
              "\n",
              "    .dataframe thead th {\n",
              "        text-align: right;\n",
              "    }\n",
              "</style>\n",
              "<table border=\"1\" class=\"dataframe\">\n",
              "  <thead>\n",
              "    <tr style=\"text-align: right;\">\n",
              "      <th></th>\n",
              "      <th>id</th>\n",
              "      <th>video</th>\n",
              "      <th>gt_extraversion</th>\n",
              "      <th>gt_neuroticism</th>\n",
              "      <th>gt_agreeableness</th>\n",
              "      <th>gt_conscientiousness</th>\n",
              "      <th>gt_openness</th>\n",
              "      <th>pred_extraversion</th>\n",
              "      <th>pred_neuroticism</th>\n",
              "      <th>pred_agreeableness</th>\n",
              "      <th>pred_conscientiousness</th>\n",
              "      <th>pred_openness</th>\n",
              "    </tr>\n",
              "  </thead>\n",
              "  <tbody>\n",
              "    <tr>\n",
              "      <th>0</th>\n",
              "      <td>12</td>\n",
              "      <td>1</td>\n",
              "      <td>0.98</td>\n",
              "      <td>0.58</td>\n",
              "      <td>0.56</td>\n",
              "      <td>0.60</td>\n",
              "      <td>0.74</td>\n",
              "      <td>0.433974</td>\n",
              "      <td>0.478068</td>\n",
              "      <td>0.518351</td>\n",
              "      <td>0.480338</td>\n",
              "      <td>0.514328</td>\n",
              "    </tr>\n",
              "    <tr>\n",
              "      <th>1</th>\n",
              "      <td>14</td>\n",
              "      <td>1</td>\n",
              "      <td>0.84</td>\n",
              "      <td>0.62</td>\n",
              "      <td>0.38</td>\n",
              "      <td>0.74</td>\n",
              "      <td>0.66</td>\n",
              "      <td>0.399414</td>\n",
              "      <td>0.443344</td>\n",
              "      <td>0.495944</td>\n",
              "      <td>0.443173</td>\n",
              "      <td>0.483547</td>\n",
              "    </tr>\n",
              "    <tr>\n",
              "      <th>2</th>\n",
              "      <td>4</td>\n",
              "      <td>1</td>\n",
              "      <td>0.56</td>\n",
              "      <td>0.66</td>\n",
              "      <td>0.36</td>\n",
              "      <td>0.68</td>\n",
              "      <td>0.82</td>\n",
              "      <td>0.385275</td>\n",
              "      <td>0.429255</td>\n",
              "      <td>0.486516</td>\n",
              "      <td>0.428208</td>\n",
              "      <td>0.470897</td>\n",
              "    </tr>\n",
              "    <tr>\n",
              "      <th>3</th>\n",
              "      <td>15</td>\n",
              "      <td>1</td>\n",
              "      <td>0.60</td>\n",
              "      <td>0.58</td>\n",
              "      <td>0.40</td>\n",
              "      <td>0.68</td>\n",
              "      <td>0.74</td>\n",
              "      <td>0.449909</td>\n",
              "      <td>0.493641</td>\n",
              "      <td>0.529046</td>\n",
              "      <td>0.497055</td>\n",
              "      <td>0.528540</td>\n",
              "    </tr>\n",
              "    <tr>\n",
              "      <th>4</th>\n",
              "      <td>19</td>\n",
              "      <td>1</td>\n",
              "      <td>0.72</td>\n",
              "      <td>0.68</td>\n",
              "      <td>0.42</td>\n",
              "      <td>0.82</td>\n",
              "      <td>0.68</td>\n",
              "      <td>0.532031</td>\n",
              "      <td>0.574041</td>\n",
              "      <td>0.582982</td>\n",
              "      <td>0.583438</td>\n",
              "      <td>0.601185</td>\n",
              "    </tr>\n",
              "  </tbody>\n",
              "</table>\n",
              "</div>\n",
              "      <button class=\"colab-df-convert\" onclick=\"convertToInteractive('df-d291b783-d015-4e5b-9f22-398eb33ec157')\"\n",
              "              title=\"Convert this dataframe to an interactive table.\"\n",
              "              style=\"display:none;\">\n",
              "        \n",
              "  <svg xmlns=\"http://www.w3.org/2000/svg\" height=\"24px\"viewBox=\"0 0 24 24\"\n",
              "       width=\"24px\">\n",
              "    <path d=\"M0 0h24v24H0V0z\" fill=\"none\"/>\n",
              "    <path d=\"M18.56 5.44l.94 2.06.94-2.06 2.06-.94-2.06-.94-.94-2.06-.94 2.06-2.06.94zm-11 1L8.5 8.5l.94-2.06 2.06-.94-2.06-.94L8.5 2.5l-.94 2.06-2.06.94zm10 10l.94 2.06.94-2.06 2.06-.94-2.06-.94-.94-2.06-.94 2.06-2.06.94z\"/><path d=\"M17.41 7.96l-1.37-1.37c-.4-.4-.92-.59-1.43-.59-.52 0-1.04.2-1.43.59L10.3 9.45l-7.72 7.72c-.78.78-.78 2.05 0 2.83L4 21.41c.39.39.9.59 1.41.59.51 0 1.02-.2 1.41-.59l7.78-7.78 2.81-2.81c.8-.78.8-2.07 0-2.86zM5.41 20L4 18.59l7.72-7.72 1.47 1.35L5.41 20z\"/>\n",
              "  </svg>\n",
              "      </button>\n",
              "      \n",
              "  <style>\n",
              "    .colab-df-container {\n",
              "      display:flex;\n",
              "      flex-wrap:wrap;\n",
              "      gap: 12px;\n",
              "    }\n",
              "\n",
              "    .colab-df-convert {\n",
              "      background-color: #E8F0FE;\n",
              "      border: none;\n",
              "      border-radius: 50%;\n",
              "      cursor: pointer;\n",
              "      display: none;\n",
              "      fill: #1967D2;\n",
              "      height: 32px;\n",
              "      padding: 0 0 0 0;\n",
              "      width: 32px;\n",
              "    }\n",
              "\n",
              "    .colab-df-convert:hover {\n",
              "      background-color: #E2EBFA;\n",
              "      box-shadow: 0px 1px 2px rgba(60, 64, 67, 0.3), 0px 1px 3px 1px rgba(60, 64, 67, 0.15);\n",
              "      fill: #174EA6;\n",
              "    }\n",
              "\n",
              "    [theme=dark] .colab-df-convert {\n",
              "      background-color: #3B4455;\n",
              "      fill: #D2E3FC;\n",
              "    }\n",
              "\n",
              "    [theme=dark] .colab-df-convert:hover {\n",
              "      background-color: #434B5C;\n",
              "      box-shadow: 0px 1px 3px 1px rgba(0, 0, 0, 0.15);\n",
              "      filter: drop-shadow(0px 1px 2px rgba(0, 0, 0, 0.3));\n",
              "      fill: #FFFFFF;\n",
              "    }\n",
              "  </style>\n",
              "\n",
              "      <script>\n",
              "        const buttonEl =\n",
              "          document.querySelector('#df-d291b783-d015-4e5b-9f22-398eb33ec157 button.colab-df-convert');\n",
              "        buttonEl.style.display =\n",
              "          google.colab.kernel.accessAllowed ? 'block' : 'none';\n",
              "\n",
              "        async function convertToInteractive(key) {\n",
              "          const element = document.querySelector('#df-d291b783-d015-4e5b-9f22-398eb33ec157');\n",
              "          const dataTable =\n",
              "            await google.colab.kernel.invokeFunction('convertToInteractive',\n",
              "                                                     [key], {});\n",
              "          if (!dataTable) return;\n",
              "\n",
              "          const docLinkHtml = 'Like what you see? Visit the ' +\n",
              "            '<a target=\"_blank\" href=https://colab.research.google.com/notebooks/data_table.ipynb>data table notebook</a>'\n",
              "            + ' to learn more about interactive tables.';\n",
              "          element.innerHTML = '';\n",
              "          dataTable['output_type'] = 'display_data';\n",
              "          await google.colab.output.renderOutput(dataTable, element);\n",
              "          const docLink = document.createElement('div');\n",
              "          docLink.innerHTML = docLinkHtml;\n",
              "          element.appendChild(docLink);\n",
              "        }\n",
              "      </script>\n",
              "    </div>\n",
              "  </div>\n",
              "  "
            ]
          },
          "metadata": {},
          "execution_count": 72
        }
      ]
    }
  ]
}